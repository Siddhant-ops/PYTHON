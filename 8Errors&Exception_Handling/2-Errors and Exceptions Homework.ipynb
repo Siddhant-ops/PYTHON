{
 "cells": [
  {
   "cell_type": "markdown",
   "metadata": {},
   "source": [
    "# Errors and Exceptions Homework"
   ]
  },
  {
   "cell_type": "markdown",
   "metadata": {},
   "source": [
    "### Problem 1\n",
    "Handle the exception thrown by the code below by using <code>try</code> and <code>except</code> blocks."
   ]
  },
  {
   "cell_type": "code",
   "execution_count": 1,
   "metadata": {},
   "outputs": [
    {
     "ename": "TypeError",
     "evalue": "unsupported operand type(s) for ** or pow(): 'str' and 'int'",
     "output_type": "error",
     "traceback": [
      "\u001b[131m---------------------------------------------------------------------------\u001b[0m",
      "\u001b[131mTypeError\u001b[0m                                 Traceback (most recent call last)",
      "\u001b[132m<ipython-input-1-c35f41ad7311>\u001b[0m in \u001b[036m<module>\u001b[134m()\u001b[0m\n\u001b[032m      1\u001b[0m \u001b[132mfor\u001b[0m \u001b[0mi\u001b[0m \u001b[132min\u001b[0m \u001b[133m[\u001b[0m\u001b[134m'a'\u001b[0m\u001b[133m,\u001b[0m\u001b[134m'b'\u001b[0m\u001b[133m,\u001b[0m\u001b[134m'c'\u001b[0m\u001b[133m]\u001b[0m\u001b[133m:\u001b[0m\u001b[133m\u001b[0m\u001b[0m\n\u001b[132m----> 2\u001b[133m     \u001b[0mprint\u001b[0m\u001b[133m(\u001b[0m\u001b[0mi\u001b[0m\u001b[133m**\u001b[0m\u001b[136m2\u001b[0m\u001b[133m)\u001b[0m\u001b[133m\u001b[0m\u001b[0m\n\u001b[0m",
      "\u001b[131mTypeError\u001b[0m: unsupported operand type(s) for ** or pow(): 'str' and 'int'"
     ]
    }
   ],
   "source": [
    "for i in ['a','b','c']:\n",
    "    print(i**2)"
   ]
  },
  {
   "cell_type": "code",
   "execution_count": 1,
   "metadata": {
    "tags": []
   },
   "outputs": [
    {
     "output_type": "stream",
     "name": "stdout",
     "text": "Wrong code Idiot, Can't square strings\n"
    }
   ],
   "source": [
    "try:\n",
    "    for i in ['a','b','c']:\n",
    "        print(i**2)\n",
    "except:\n",
    "    print(\"Wrong code Idiot, Can't square strings\")"
   ]
  },
  {
   "cell_type": "markdown",
   "metadata": {},
   "source": [
    "### Problem 2\n",
    "Handle the exception thrown by the code below by using <code>try</code> and <code>except</code> blocks. Then use a <code>finally</code> block to print 'All Done.'"
   ]
  },
  {
   "cell_type": "code",
   "execution_count": 2,
   "metadata": {},
   "outputs": [
    {
     "ename": "ZeroDivisionError",
     "evalue": "division by zero",
     "output_type": "error",
     "traceback": [
      "\u001b[131m---------------------------------------------------------------------------\u001b[0m",
      "\u001b[131mZeroDivisionError\u001b[0m                         Traceback (most recent call last)",
      "\u001b[132m<ipython-input-2-6f985c4c80dd>\u001b[0m in \u001b[036m<module>\u001b[134m()\u001b[0m\n\u001b[032m      2\u001b[0m \u001b[0my\u001b[0m \u001b[133m=\u001b[0m \u001b[136m0\u001b[0m\u001b[133m\u001b[0m\u001b[0m\n\u001b[032m      3\u001b[0m \u001b[133m\u001b[0m\u001b[0m\n\u001b[132m----> 4\u001b[133m \u001b[0mz\u001b[0m \u001b[133m=\u001b[0m \u001b[0mx\u001b[0m\u001b[133m/\u001b[0m\u001b[0my\u001b[0m\u001b[133m\u001b[0m\u001b[0m\n\u001b[0m",
      "\u001b[131mZeroDivisionError\u001b[0m: division by zero"
     ]
    }
   ],
   "source": [
    "x = 5\n",
    "y = 0\n",
    "\n",
    "z = x/y"
   ]
  },
  {
   "cell_type": "code",
   "execution_count": 1,
   "metadata": {
    "tags": []
   },
   "outputs": [
    {
     "output_type": "stream",
     "name": "stdout",
     "text": "Could you be any more Idiotic, u cannot divide any number by ZERO\nAll Done\n"
    }
   ],
   "source": [
    "try:\n",
    "    x = 5\n",
    "    y = 0\n",
    "\n",
    "    z = x/y\n",
    "except ZeroDivisionError:\n",
    "    print(\"Could you be any more Idiotic, u cannot divide any number by ZERO\")\n",
    "finally:\n",
    "    print(\"All Done\")"
   ]
  },
  {
   "cell_type": "markdown",
   "metadata": {},
   "source": [
    "### Problem 3\n",
    "Write a function that asks for an integer and prints the square of it. Use a <code>while</code> loop with a <code>try</code>, <code>except</code>, <code>else</code> block to account for incorrect inputs."
   ]
  },
  {
   "cell_type": "code",
   "execution_count": 3,
   "metadata": {},
   "outputs": [],
   "source": [
    "def ask():\n",
    "    while True:\n",
    "        try:\n",
    "            numb = int(input(\"Enter your desired Number\"))\n",
    "        except:\n",
    "            print(\"U have to enter an integer IDIOT and not something else\")\n",
    "            continue\n",
    "        else:\n",
    "            print(\"Thanks for entering a number\")\n",
    "            break"
   ]
  },
  {
   "cell_type": "code",
   "execution_count": 4,
   "metadata": {
    "tags": []
   },
   "outputs": [
    {
     "output_type": "stream",
     "name": "stdout",
     "text": "U have to enter an integer IDIOT and not something else\nU have to enter an integer IDIOT and not something else\nThanks for entering a number\n"
    }
   ],
   "source": [
    "ask()"
   ]
  },
  {
   "cell_type": "markdown",
   "metadata": {},
   "source": [
    "# Great Job!"
   ]
  }
 ],
 "metadata": {
  "kernelspec": {
   "display_name": "Python 3",
   "language": "python",
   "name": "python3"
  },
  "language_info": {
   "codemirror_mode": {
    "name": "ipython",
    "version": 3
   },
   "file_extension": ".py",
   "mimetype": "text/x-python",
   "name": "python",
   "nbconvert_exporter": "python",
   "pygments_lexer": "ipython3",
   "version": "3.7.6-final"
  }
 },
 "nbformat": 4,
 "nbformat_minor": 1
}